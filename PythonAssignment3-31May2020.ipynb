{
  "nbformat": 4,
  "nbformat_minor": 0,
  "metadata": {
    "colab": {
      "name": "Assignment3.ipynb",
      "provenance": [],
      "collapsed_sections": []
    },
    "kernelspec": {
      "name": "python3",
      "display_name": "Python 3"
    }
  },
  "cells": [
    {
      "cell_type": "markdown",
      "metadata": {
        "id": "07owet0jeOeo",
        "colab_type": "text"
      },
      "source": [
        "Write a function to compute 5/0 and use try/except to catch the exceptions."
      ]
    },
    {
      "cell_type": "code",
      "metadata": {
        "id": "w8sK33mcbjEi",
        "colab_type": "code",
        "outputId": "c6537b98-3c5a-47ea-f6e2-74590ccfcf64",
        "colab": {
          "base_uri": "https://localhost:8080/",
          "height": 34
        }
      },
      "source": [
        "def exception_testing():\n",
        "    return 5/0\n",
        "\n",
        "try:\n",
        "    exception_testing()\n",
        "except ZeroDivisionError:#\n",
        "    print(\"Don't divide a number by ZERO!!\")\n",
        "except:\n",
        "    print(\"Other type of exception\")\n",
        "\n",
        "\n",
        "# exception_testing()"
      ],
      "execution_count": 7,
      "outputs": [
        {
          "output_type": "stream",
          "text": [
            "Don't divide a number by ZERO!!\n"
          ],
          "name": "stdout"
        }
      ]
    },
    {
      "cell_type": "markdown",
      "metadata": {
        "id": "2EXVFGluq089",
        "colab_type": "text"
      },
      "source": [
        "Implement a Python program to generate all sentences where subject is in [\"Americans\",\"Indians\"] and verb is in [\"Play\", \"watch\"] and the object is in [\"Baseball\",\"cricket\"].\n",
        "\n",
        "Hint: Subject,Verb and Object should be declared in the program as shown below.\n",
        "\n",
        "subjects=[\"Americans \",\"Indians\"]\n",
        "\n",
        "verbs=[\"play\",\"watch\"]\n",
        "\n",
        "objects=[\"Baseball\",\"Cricket\"]\n",
        "\n",
        "**Output should come as below:**\n",
        "\n",
        "Americans play Baseball.\n",
        "\n",
        "Americans play Cricket.\n",
        "\n",
        "Americans watch Baseball.\n",
        "\n",
        "Americans watch Cricket.\n",
        "\n",
        "Indians play Baseball.\n",
        "\n",
        "Indians play Cricket.\n",
        "\n",
        "Indians watch Baseball.\n",
        "\n",
        "Indians watch Cricket."
      ]
    },
    {
      "cell_type": "code",
      "metadata": {
        "id": "7kqiXkpgrlAW",
        "colab_type": "code",
        "outputId": "4ed6879d-9f21-438b-fbc2-a34b406872e6",
        "colab": {
          "base_uri": "https://localhost:8080/",
          "height": 196
        }
      },
      "source": [
        "subjects=[\"Americans\",\"Indians\"]\n",
        "verbs=[\"play\",\"watch\"]\n",
        "objects=[\"Baseball\",\"Cricket\"]\n",
        "sentence = [(i + \" \"+ j + \" \"+ k) for i in subjects for j in verbs for k in objects]\n",
        "print(sentence)\n",
        "for x in sentence:\n",
        "  print(x)"
      ],
      "execution_count": 8,
      "outputs": [
        {
          "output_type": "stream",
          "text": [
            "['Americans play Baseball', 'Americans play Cricket', 'Americans watch Baseball', 'Americans watch Cricket', 'Indians play Baseball', 'Indians play Cricket', 'Indians watch Baseball', 'Indians watch Cricket']\n",
            "Americans play Baseball\n",
            "Americans play Cricket\n",
            "Americans watch Baseball\n",
            "Americans watch Cricket\n",
            "Indians play Baseball\n",
            "Indians play Cricket\n",
            "Indians watch Baseball\n",
            "Indians watch Cricket\n"
          ],
          "name": "stdout"
        }
      ]
    },
    {
      "cell_type": "markdown",
      "metadata": {
        "id": "I5vLG-4EwSel",
        "colab_type": "text"
      },
      "source": [
        "Write a function so that the columns of the output matrix are powers of the input vector. The order of the powers is determined by the increasing boolean argument. Specifically, when increasing is False, the i-th output column is the input vector raised element-wise to the power of N - i - 1.\n",
        "**HINT: Such a matrix with a geometric progression in each row is named for Alexandre- Theophile Vandermonde.**"
      ]
    },
    {
      "cell_type": "code",
      "metadata": {
        "id": "bkfAcnNh0L84",
        "colab_type": "code",
        "outputId": "65ff109f-0d31-4cda-f691-ef7f0174a956",
        "colab": {
          "base_uri": "https://localhost:8080/",
          "height": 496
        }
      },
      "source": [
        "import numpy as np  \n",
        "def gen_geo_prog_matrix(ipvector, n, increasing=False):\n",
        "  if not increasing:        \n",
        "    op_matx = np.array([x**(n-1-i) for x in ipvector for i in range(n)]).reshape(ipvector.size,n)\n",
        "  elif increasing:\n",
        "    op_matx = np.array([x**i for x in ipvector for i in range(n)]).reshape(ipvector.size,n) \n",
        "  return op_matx\n",
        "# print(\"------------OUTPUT-------------\")\n",
        "input_number = input(\"Enter Your Number -> \")\n",
        "inputvector =  list(map(int, str(input_number)))  \n",
        "print(\"\\n\", \"The input array Before NP array :\",inputvector,\"\\n\")\n",
        "inputvector = np.array(inputvector)\n",
        "print(\"The input array After NP array :\",inputvector,\"\\n\")\n",
        "no_col_opmat = input(\"Enter No of Col for O/p Matrix-> \")\n",
        "no_col_opmat = int(no_col_opmat)\n",
        "op_matrix_dec_order = gen_geo_prog_matrix(inputvector,no_col_opmat,False)\n",
        "op_matrix_inc_order = gen_geo_prog_matrix(inputvector,no_col_opmat,True)\n",
        "\n",
        "\n",
        "print(\"Number of columns in output matrix should be:\",no_col_opmat,\"\\n\")\n",
        "print(\"Vander matrix of the input array in decreasing order of powers:\\n\\n\",op_matrix_dec_order,\"\\n\")\n",
        "print(\"Vander matrix of the input array in increasing order of powers:\\n\\n\",op_matrix_inc_order,\"\\n\")"
      ],
      "execution_count": 10,
      "outputs": [
        {
          "output_type": "stream",
          "text": [
            "Enter Your Number -> 345678\n",
            "\n",
            " The input array Before NP array : [3, 4, 5, 6, 7, 8] \n",
            "\n",
            "The input array After NP array : [3 4 5 6 7 8] \n",
            "\n",
            "Enter No of Col for O/p Matrix-> 7\n",
            "Number of columns in output matrix should be: 7 \n",
            "\n",
            "Vander matrix of the input array in decreasing order of powers:\n",
            "\n",
            " [[   729    243     81     27      9      3      1]\n",
            " [  4096   1024    256     64     16      4      1]\n",
            " [ 15625   3125    625    125     25      5      1]\n",
            " [ 46656   7776   1296    216     36      6      1]\n",
            " [117649  16807   2401    343     49      7      1]\n",
            " [262144  32768   4096    512     64      8      1]] \n",
            "\n",
            "Vander matrix of the input array in increasing order of powers:\n",
            "\n",
            " [[     1      3      9     27     81    243    729]\n",
            " [     1      4     16     64    256   1024   4096]\n",
            " [     1      5     25    125    625   3125  15625]\n",
            " [     1      6     36    216   1296   7776  46656]\n",
            " [     1      7     49    343   2401  16807 117649]\n",
            " [     1      8     64    512   4096  32768 262144]] \n",
            "\n"
          ],
          "name": "stdout"
        }
      ]
    }
  ]
}