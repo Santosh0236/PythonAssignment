{
  "nbformat": 4,
  "nbformat_minor": 0,
  "metadata": {
    "colab": {
      "name": "Assignment2.ipynb",
      "provenance": [],
      "collapsed_sections": []
    },
    "kernelspec": {
      "name": "python3",
      "display_name": "Python 3"
    }
  },
  "cells": [
    {
      "cell_type": "markdown",
      "metadata": {
        "id": "KmxhJogTGUR7",
        "colab_type": "text"
      },
      "source": [
        "Write a Python Program to implement your own myreduce() function which works exactly like\n",
        "Python's built-in function reduce()"
      ]
    },
    {
      "cell_type": "code",
      "metadata": {
        "id": "cw7YjtQqGItL",
        "colab_type": "code",
        "outputId": "420d95b1-9fc2-473f-b127-7868a1de6422",
        "colab": {
          "base_uri": "https://localhost:8080/",
          "height": 34
        }
      },
      "source": [
        "def myreduce(myfn,y):\n",
        "  result = y[0]\n",
        "  for i in y[1:]:\n",
        "    result = myfn(result,i)\n",
        "  return result\n",
        "def sum(x,y): return x + y\n",
        "myreduce_x_reslt = myreduce(sum,[1,2,3,4])\n",
        "print (\"Sum on list [1,2,3,4] using custom reduce function \"   + str(myreduce(sum, [1,2,3,4])) )"
      ],
      "execution_count": 6,
      "outputs": [
        {
          "output_type": "stream",
          "text": [
            "Sum on list [1,2,3,4] using custom reduce function 10\n"
          ],
          "name": "stdout"
        }
      ]
    },
    {
      "cell_type": "markdown",
      "metadata": {
        "id": "qxG_ctuPsQaq",
        "colab_type": "text"
      },
      "source": [
        "Write a Python program to implement your own myfilter() function which works exactly like Python's built-in function filter()"
      ]
    },
    {
      "cell_type": "code",
      "metadata": {
        "id": "XUfmqegqH9Zx",
        "colab_type": "code",
        "outputId": "af31fadc-bebc-4188-d0bb-b3bdab9766eb",
        "colab": {
          "base_uri": "https://localhost:8080/",
          "height": 34
        }
      },
      "source": [
        "# test myfilter function\n",
        "def ispositive(x):\n",
        " if (x <= 0): \n",
        "  return False \n",
        " else: \n",
        "  return True\n",
        "  \n",
        "# Definition for myfilter function \n",
        "def myfilter(func_name, sequence):\n",
        " result = []\n",
        " for i in sequence:\n",
        "  if func_name(i):\n",
        "   result.append(i)\n",
        "\n",
        " # return final output\n",
        " return result\n",
        "\n",
        "\n",
        "print (\"Positive Integers From the list [0,1,-2,3,4,-5,23,-22,43,-34] using custom filter function \"  \n",
        "       + str(myfilter(ispositive, [0,1,-2,3,4,-5,23,-22,43,-34])))"
      ],
      "execution_count": 7,
      "outputs": [
        {
          "output_type": "stream",
          "text": [
            "Positive Integers From the list [0,1,-2,3,4,-5,23,-22,43,-34] using custom filter function [1, 3, 4, 23, 43]\n"
          ],
          "name": "stdout"
        }
      ]
    },
    {
      "cell_type": "code",
      "metadata": {
        "id": "C3wZDK7KKayM",
        "colab_type": "code",
        "colab": {}
      },
      "source": [
        ""
      ],
      "execution_count": 0,
      "outputs": []
    },
    {
      "cell_type": "markdown",
      "metadata": {
        "id": "RbmbRp37qFnb",
        "colab_type": "text"
      },
      "source": [
        "Implement List comprehensions to produce the following lists. Write List comprehensions to produce the following Lists \n",
        "\n",
        "['A', 'C', 'A', 'D', 'G', 'I', ’L’, ‘ D’] \n",
        "\n",
        "['x', 'xx', 'xxx', 'xxxx', 'y', 'yy', 'yyy', 'yyyy', 'z', 'zz', 'zzz', 'zzzz'] \n",
        "\n",
        "['x', 'y', 'z', 'xx', 'yy', 'zz', 'xxx', 'yyy', 'zzz', 'xxxx', 'yyyy', 'zzzz']\n",
        "\n",
        "[[2], [3], [4], [3], [4], [5], [4], [5], [6]]\n",
        "\n",
        "[[2, 3, 4, 5], [3, 4, 5, 6], [4, 5, 6, 7], [5, 6, 7, 8]]\n",
        "\n",
        "[(1, 1), (2, 1), (3, 1), (1, 2), (2, 2), (3, 2), (1, 3), (2, 3), (3, 3)]"
      ]
    },
    {
      "cell_type": "code",
      "metadata": {
        "id": "gYsxBBZ7qC7b",
        "colab_type": "code",
        "outputId": "2f87a382-3cc3-4db2-97ae-84e353d5df30",
        "colab": {
          "base_uri": "https://localhost:8080/",
          "height": 34
        }
      },
      "source": [
        "# output should like ['A', 'C', 'A', 'D', 'G', 'I', ’L’, ‘ D’]\n",
        "my_string = 'ACADGILD'\n",
        "print(list(my_string))"
      ],
      "execution_count": 8,
      "outputs": [
        {
          "output_type": "stream",
          "text": [
            "['A', 'C', 'A', 'D', 'G', 'I', 'L', 'D']\n"
          ],
          "name": "stdout"
        }
      ]
    },
    {
      "cell_type": "code",
      "metadata": {
        "id": "IkZzyh5frYsg",
        "colab_type": "code",
        "outputId": "f83f6b0e-2d71-42c9-a536-ad1f8ab3c1aa",
        "colab": {
          "base_uri": "https://localhost:8080/",
          "height": 34
        }
      },
      "source": [
        "# output should like ['x', 'xx', 'xxx', 'xxxx', 'y', 'yy', 'yyy', 'yyyy', 'z', 'zz', 'zzz', 'zzzz']\n",
        "my_string1 = 'xyz'\n",
        "new_list =[]\n",
        "for i in my_string1:\n",
        "  for j in range(1,5):  \n",
        "    new_list.append(i*j)\n",
        "print(new_list)"
      ],
      "execution_count": 9,
      "outputs": [
        {
          "output_type": "stream",
          "text": [
            "['x', 'xx', 'xxx', 'xxxx', 'y', 'yy', 'yyy', 'yyyy', 'z', 'zz', 'zzz', 'zzzz']\n"
          ],
          "name": "stdout"
        }
      ]
    },
    {
      "cell_type": "code",
      "metadata": {
        "id": "cztfX8Z3s_a2",
        "colab_type": "code",
        "outputId": "789e2d05-1740-4fa7-ca87-0e6b827e0ba0",
        "colab": {
          "base_uri": "https://localhost:8080/",
          "height": 34
        }
      },
      "source": [
        "# o/p should be ['x', 'y', 'z', 'xx', 'yy', 'zz', 'xxx', 'yyy', 'zzz', 'xxxx', 'yyyy', 'zzzz']\n",
        "my_string1 = 'xyz'\n",
        "new_list = [item*num for num in range(1,5) for item in my_string1  ]\n",
        "print(new_list)"
      ],
      "execution_count": 10,
      "outputs": [
        {
          "output_type": "stream",
          "text": [
            "['x', 'y', 'z', 'xx', 'yy', 'zz', 'xxx', 'yyy', 'zzz', 'xxxx', 'yyyy', 'zzzz']\n"
          ],
          "name": "stdout"
        }
      ]
    },
    {
      "cell_type": "code",
      "metadata": {
        "id": "t36yR3al2V1d",
        "colab_type": "code",
        "outputId": "959b023b-89de-4ff8-dcab-0a96480980ee",
        "colab": {
          "base_uri": "https://localhost:8080/",
          "height": 34
        }
      },
      "source": [
        "# output should be [[2], [3], [4], [3], [4], [5], [4], [5], [6]]\n",
        "ip_list = [2,3,4]\n",
        "num_list=[]\n",
        "num_list = [[item+i] for i in range(0,3) for item in ip_list  ]\n",
        "print(num_list)"
      ],
      "execution_count": 11,
      "outputs": [
        {
          "output_type": "stream",
          "text": [
            "[[2], [3], [4], [3], [4], [5], [4], [5], [6]]\n"
          ],
          "name": "stdout"
        }
      ]
    },
    {
      "cell_type": "code",
      "metadata": {
        "id": "D9YIEuG--hTT",
        "colab_type": "code",
        "outputId": "f8e1eeb6-9b31-419f-db72-3bc0fe0f53ed",
        "colab": {
          "base_uri": "https://localhost:8080/",
          "height": 34
        }
      },
      "source": [
        "# o/p should be [[2, 3, 4, 5], [3, 4, 5, 6], [4, 5, 6, 7], [5, 6, 7, 8]]\n",
        "x= [2,3,4,5]\n",
        "x_list=[]\n",
        "x_list = [[j+i for i in range(4)] for j in x  ]\n",
        "print(x_list)\n"
      ],
      "execution_count": 12,
      "outputs": [
        {
          "output_type": "stream",
          "text": [
            "[[2, 3, 4, 5], [3, 4, 5, 6], [4, 5, 6, 7], [5, 6, 7, 8]]\n"
          ],
          "name": "stdout"
        }
      ]
    },
    {
      "cell_type": "code",
      "metadata": {
        "id": "NNtIh-FIDAFD",
        "colab_type": "code",
        "outputId": "22523ce8-f1d5-450c-b7c7-12441c5fe4ab",
        "colab": {
          "base_uri": "https://localhost:8080/",
          "height": 34
        }
      },
      "source": [
        "# o/p should be [(1, 1), (2, 1), (3, 1), (1, 2), (2, 2), (3, 2), (1, 3), (2, 3), (3, 3)]\n",
        "x= [1,2,3]\n",
        "x_list=[]\n",
        "x_list_tup = [(j,i) for i in range(1,4) for j in x  ]\n",
        "# x_list_set = [{j,i} for i in range(1,4) for j in x  ]\n",
        "# x_list = [[j,i] for i in range(1,4) for j in x  ]\n",
        "print(x_list_tup)\n",
        "# print(x_list_set)\n",
        "# print(x_list)"
      ],
      "execution_count": 13,
      "outputs": [
        {
          "output_type": "stream",
          "text": [
            "[(1, 1), (2, 1), (3, 1), (1, 2), (2, 2), (3, 2), (1, 3), (2, 3), (3, 3)]\n"
          ],
          "name": "stdout"
        }
      ]
    },
    {
      "cell_type": "markdown",
      "metadata": {
        "id": "DMUBNVIFNv4N",
        "colab_type": "text"
      },
      "source": [
        "Implement a function longestWord() that takes a list of words and returns the longest one."
      ]
    },
    {
      "cell_type": "code",
      "metadata": {
        "id": "VhTDkYX1NuIS",
        "colab_type": "code",
        "outputId": "63e0d61c-b719-4d45-9662-bca5c9060c2a",
        "colab": {
          "base_uri": "https://localhost:8080/",
          "height": 34
        }
      },
      "source": [
        "string = 'My Name is Santosh Gupta'\n",
        "def longestWord(mystring):\n",
        "  wrd_lst = []\n",
        "  string_list = mystring.split() \n",
        "  str_len = len(string_list) \n",
        "  max_length = 0  \n",
        "  for i in range(str_len):  \n",
        "    if len(string_list[i]) > max_length:    \n",
        "      max_length = len(string_list[i])    \n",
        "      wrd_lst = string_list[i]\n",
        "  print('The Longest word is',wrd_lst, \"and it's length is\", str(len(wrd_lst)), 'Character')\n",
        "\n",
        "\n",
        "longestWord(string)"
      ],
      "execution_count": 14,
      "outputs": [
        {
          "output_type": "stream",
          "text": [
            "The Longest word is Santosh and it's length is 7 Character\n"
          ],
          "name": "stdout"
        }
      ]
    },
    {
      "cell_type": "markdown",
      "metadata": {
        "id": "tEtUPuMNcFDO",
        "colab_type": "text"
      },
      "source": [
        "Write a Python Program(with class concepts) to find the area of the triangle using the below formula.\n",
        "area = (s*(s-a)*(s-b)*(s-c)) *** 0.5\n",
        "Function to take the length of the sides of triangle from user should be defined in the parent\n",
        "class and function to calculate the area should be defined in subclass."
      ]
    },
    {
      "cell_type": "code",
      "metadata": {
        "id": "kOR-2blEcDHb",
        "colab_type": "code",
        "outputId": "25b4098f-83c0-452e-97d4-2457cceaf576",
        "colab": {
          "base_uri": "https://localhost:8080/",
          "height": 87
        }
      },
      "source": [
        "class  triangle_area:\n",
        "  def __init__(self,a,b,c):\n",
        "    self.a = float(a)\n",
        "    self.b = float(b)\n",
        "    self.c = float(c)\n",
        "    \n",
        "  def area (self):\n",
        "    s = (self.a + self.b + self.c)/2 \n",
        "    return  ((s*(s-a)*(s-b)*(s-c))**0.5)\n",
        "    \n",
        "a=float(input(\"Enter the value for side a = \"))\n",
        "b=float(input(\"Enter the value for side b = \"))\n",
        "c=float(input(\"Enter the value for side c = \"))\n",
        "t = triangle_area(a, b, c)\n",
        "print(\"area of the triangle is --> {}\".format(t.area()))"
      ],
      "execution_count": 15,
      "outputs": [
        {
          "output_type": "stream",
          "text": [
            "Enter the value for side a = 30\n",
            "Enter the value for side b = 40\n",
            "Enter the value for side c = 50\n",
            "area of the triangle is --> 600.0\n"
          ],
          "name": "stdout"
        }
      ]
    },
    {
      "cell_type": "markdown",
      "metadata": {
        "id": "A8Ini9wX8LDD",
        "colab_type": "text"
      },
      "source": [
        "Write a function **filter_long_words()** that takes a list of words and an integer **n** and returns the list of words that are longer than **n**."
      ]
    },
    {
      "cell_type": "code",
      "metadata": {
        "id": "WK1kNu879obG",
        "colab_type": "code",
        "outputId": "ff333f9b-f1b1-46b0-c7ea-0add49b5f970",
        "colab": {
          "base_uri": "https://localhost:8080/",
          "height": 87
        }
      },
      "source": [
        "word_list = input (\"Please Enter the String\")\n",
        "n = int(input (\"Please Enter The Number of Character\"))\n",
        "def filter_long_words (word_list, n):\n",
        "  word_list = word_list.split()\n",
        "  print(word_list)\n",
        "  new_word_list =[]\n",
        "  string_length = len(word_list)\n",
        "  # print('Length of the string is --> ',str(string_length))\n",
        "  initial_length = n\n",
        "  for i in range (string_length):\n",
        "    # print (len(word_list[i]),initial_length)\n",
        "    if len(word_list[i]) > initial_length:\n",
        "      # initial_length = len(word_list[i])\n",
        "      new_word_list.append(word_list[i])\n",
        "  print (new_word_list)\n",
        "\n",
        "filter_long_words(word_list ,n)"
      ],
      "execution_count": 16,
      "outputs": [
        {
          "output_type": "stream",
          "text": [
            "Please Enter the StringMy Name is Rishikesh Santosh Gupta \n",
            "Please Enter The Number of Character3\n",
            "['My', 'Name', 'is', 'Rishikesh', 'Santosh', 'Gupta']\n",
            "['Name', 'Rishikesh', 'Santosh', 'Gupta']\n"
          ],
          "name": "stdout"
        }
      ]
    },
    {
      "cell_type": "markdown",
      "metadata": {
        "id": "H2TmdyQVPkU2",
        "colab_type": "text"
      },
      "source": [
        "Write a Python program using function concept that maps list of words into a list of integers representing the lengths of the corresponding words.\n",
        "\n",
        "Hint: If a list [ ab,cde,erty] is passed on to the python function output should come as [2,3,4]\n",
        "Here 2,3 and 4 are the lengths of the words in the list."
      ]
    },
    {
      "cell_type": "code",
      "metadata": {
        "id": "KGjTDcXLRQTN",
        "colab_type": "code",
        "outputId": "7a73915a-c27d-4dd6-a6d4-5e64574e328a",
        "colab": {
          "base_uri": "https://localhost:8080/",
          "height": 70
        }
      },
      "source": [
        "word_list = input (\"Please Enter the String -> \") \n",
        "word_list = word_list.split()\n",
        "print(word_list)\n",
        "new_word_list =[]\n",
        "string_length = len(word_list)\n",
        "initial_length = n\n",
        "for i in range (string_length):    \n",
        "  new_word_list.append(len(word_list[i]))\n",
        "print (new_word_list)"
      ],
      "execution_count": 17,
      "outputs": [
        {
          "output_type": "stream",
          "text": [
            "Please Enter the String -> My Name is Santosh Kumar Gupta\n",
            "['My', 'Name', 'is', 'Santosh', 'Kumar', 'Gupta']\n",
            "[2, 4, 2, 7, 5, 5]\n"
          ],
          "name": "stdout"
        }
      ]
    },
    {
      "cell_type": "markdown",
      "metadata": {
        "id": "gKReQabAVCNa",
        "colab_type": "text"
      },
      "source": [
        "Write a Python function which takes a character (i.e. a string of length 1) and returns True if it is a vowel, False otherwise."
      ]
    },
    {
      "cell_type": "code",
      "metadata": {
        "id": "BGDod15aABPI",
        "colab_type": "code",
        "outputId": "d93cf947-4e3e-46b3-e5ed-1643328d2975",
        "colab": {
          "base_uri": "https://localhost:8080/",
          "height": 52
        }
      },
      "source": [
        "x_list = input (\"Please Enter the Alphabet of your Choice -> \")\n",
        "def vow_func(x_list):  \n",
        "  vow_list = 'aAeEiIoOuU'\n",
        "  return x_list in vow_list      \n",
        "\n",
        "vow_func(x_list)"
      ],
      "execution_count": 18,
      "outputs": [
        {
          "output_type": "stream",
          "text": [
            "Please Enter the Alphabet of your Choice -> s\n"
          ],
          "name": "stdout"
        },
        {
          "output_type": "execute_result",
          "data": {
            "text/plain": [
              "False"
            ]
          },
          "metadata": {
            "tags": []
          },
          "execution_count": 18
        }
      ]
    }
  ]
}